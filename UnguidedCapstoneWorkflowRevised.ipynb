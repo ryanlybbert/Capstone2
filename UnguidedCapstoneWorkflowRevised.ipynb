{
 "cells": [
  {
   "cell_type": "code",
   "execution_count": 1,
   "metadata": {},
   "outputs": [],
   "source": [
    "#load in dependencies\n",
    "import pandas as pd\n",
    "import numpy as np\n",
    "import bz2\n",
    "import json"
   ]
  },
  {
   "cell_type": "code",
   "execution_count": 2,
   "metadata": {},
   "outputs": [],
   "source": [
    "blacklist = ['Fluxbox', 'fluxbox', 'ps2pdf', 'cps3', 'mps3', 'Trixbox', 'rps25', 'aps2', 'gps2', 'lps3', 'pps25', r'a-zA-Z'+'ps', r'a-zA-Z'+'xbox']\n",
    "ps_list = ['playstation', 'ps1', 'ps2', 'ps3', 'ps4']\n",
    "xbox_list = ['xbox']\n",
    "#-------------------------------should probably run mention defs before cleaning data\n",
    "def ps_mention(row):\n",
    "    mention = False\n",
    "    if not any(entry in row for entry in blacklist):\n",
    "        if any(x in row for x in ps_list):\n",
    "            mention = True\n",
    "    return mention\n",
    "\n",
    "def xbox_mention(row):\n",
    "    mention = False\n",
    "    if not any(entry in row for entry in blacklist):\n",
    "        if any(x in row for x in xbox_list):\n",
    "            mention = True\n",
    "    return mention\n",
    "\n",
    "def cleaning(uncleaned_df):\n",
    "    cleaned = uncleaned_df[['id', 'score', 'controversiality', 'subreddit', 'body', 'month', 'year']]\n",
    "    original_size = len(uncleaned_df.index)\n",
    "    cleaned['original_size'] = original_size\n",
    "    cleaned['PS'] = cleaned['body'].apply(ps_mention)\n",
    "    cleaned['XBOX'] = cleaned['body'].apply(xbox_mention)\n",
    "    #print(cleaned.shape)#still a normal sized file at this point\n",
    "    df = cleaned[(cleaned['PS'] == True) | (cleaned['XBOX'] == True)]\n",
    "    #print(df.shape)#df size is incorrect or there are few mentions in early years\n",
    "    df.set_index('id', inplace=True, drop=True) \n",
    "    return(df)"
   ]
  },
  {
   "cell_type": "code",
   "execution_count": 3,
   "metadata": {},
   "outputs": [
    {
     "name": "stderr",
     "output_type": "stream",
     "text": [
      "<ipython-input-2-426fea0ba100>:22: SettingWithCopyWarning: \n",
      "A value is trying to be set on a copy of a slice from a DataFrame.\n",
      "Try using .loc[row_indexer,col_indexer] = value instead\n",
      "\n",
      "See the caveats in the documentation: https://pandas.pydata.org/pandas-docs/stable/user_guide/indexing.html#returning-a-view-versus-a-copy\n",
      "  cleaned['original_size'] = original_size\n",
      "<ipython-input-2-426fea0ba100>:23: SettingWithCopyWarning: \n",
      "A value is trying to be set on a copy of a slice from a DataFrame.\n",
      "Try using .loc[row_indexer,col_indexer] = value instead\n",
      "\n",
      "See the caveats in the documentation: https://pandas.pydata.org/pandas-docs/stable/user_guide/indexing.html#returning-a-view-versus-a-copy\n",
      "  cleaned['PS'] = cleaned['body'].apply(ps_mention)\n",
      "<ipython-input-2-426fea0ba100>:24: SettingWithCopyWarning: \n",
      "A value is trying to be set on a copy of a slice from a DataFrame.\n",
      "Try using .loc[row_indexer,col_indexer] = value instead\n",
      "\n",
      "See the caveats in the documentation: https://pandas.pydata.org/pandas-docs/stable/user_guide/indexing.html#returning-a-view-versus-a-copy\n",
      "  cleaned['XBOX'] = cleaned['body'].apply(xbox_mention)\n"
     ]
    },
    {
     "name": "stdout",
     "output_type": "stream",
     "text": [
      "data/2009/RC_2009-01.bz2 parsed\n",
      "data/2009/RC_2009-02.bz2 parsed\n",
      "data/2009/RC_2009-03.bz2 parsed\n",
      "data/2009/RC_2009-04.bz2 parsed\n",
      "data/2009/RC_2009-05.bz2 parsed\n",
      "data/2009/RC_2009-06.bz2 parsed\n",
      "data/2009/RC_2009-07.bz2 parsed\n",
      "data/2009/RC_2009-08.bz2 parsed\n",
      "data/2009/RC_2009-09.bz2 parsed\n",
      "data/2009/RC_2009-10.bz2 parsed\n",
      "data/2009/RC_2009-11.bz2 parsed\n",
      "data/2009/RC_2009-12.bz2 parsed\n",
      "(2096, 9)\n",
      "saved dataframes/df2009\n"
     ]
    }
   ],
   "source": [
    "#years = ['2006', '2007', '2008', '2009']\n",
    "years = ['2009'] #for testing\n",
    "months = ['01', '02', '03', '04', '05', '06', '07', '08', '09', '10', '11', '12']\n",
    "\n",
    "for y in years:\n",
    "    for m in months:\n",
    "        df = pd.DataFrame()\n",
    "        try:\n",
    "            filename = \"data/\" + y + \"/RC_\" + y + \"-\" + m + \".bz2\"\n",
    "            parsed_file = pd.read_json(filename, compression='bz2', lines=True)\n",
    "            parsed_file['month'] = m\n",
    "            parsed_file['year'] = y\n",
    "            cleaned_monthly = cleaning(parsed_file)\n",
    "            df = df.append(cleaned_monthly)\n",
    "            print(filename + \" parsed\")\n",
    "            df.to_json('dataframes/df'+y+'-'+m+'.json')\n",
    "            \n",
    "        except:\n",
    "            print(\"file named \" + filename + \" does not exist\")\n",
    "    print(df.shape)\n",
    "    #df.to_json('dataframes/df'+y+'.json')\n",
    "    print('saved dataframes/df'+y)"
   ]
  },
  {
   "cell_type": "code",
   "execution_count": 7,
   "metadata": {},
   "outputs": [
    {
     "name": "stdout",
     "output_type": "stream",
     "text": [
      "(11545, 9)\n"
     ]
    }
   ],
   "source": [
    "compiled_df = pd.DataFrame()\n",
    "months = ['01', '02', '03', '04', '05', '06', '07', '08', '09', '10', '11', '12']\n",
    "for m in months:\n",
    "    url = 'dataframes/df2009-'+m+'.json'\n",
    "    df = pd.read_json(url)\n",
    "    compiled_df = compiled_df.append(df)\n",
    "    compiled_df.to_json('dataframes/df2009.json')\n",
    "print(compiled_df.shape)"
   ]
  }
 ],
 "metadata": {
  "kernelspec": {
   "display_name": "Python 3",
   "language": "python",
   "name": "python3"
  },
  "language_info": {
   "codemirror_mode": {
    "name": "ipython",
    "version": 3
   },
   "file_extension": ".py",
   "mimetype": "text/x-python",
   "name": "python",
   "nbconvert_exporter": "python",
   "pygments_lexer": "ipython3",
   "version": "3.8.3"
  }
 },
 "nbformat": 4,
 "nbformat_minor": 4
}
