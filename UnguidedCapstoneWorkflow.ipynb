{
 "cells": [
  {
   "cell_type": "code",
   "execution_count": 1,
   "metadata": {},
   "outputs": [],
   "source": [
    "#load in dependencies\n",
    "import pandas as pd\n",
    "import numpy as np\n",
    "import bz2\n",
    "import json"
   ]
  },
  {
   "cell_type": "code",
   "execution_count": null,
   "metadata": {},
   "outputs": [],
   "source": [
    "#files are saved by month and year as a list of JSON's compressed into a bz2 file\n",
    "#for memory saving purposes I ran this for each year separately, and eventually for month as well\n",
    "#future versions of this code should make everything else a def, then run this cell\n",
    "years = [\"2010\"]\n",
    "#years = [\"2006\", \"2007\", \"2008\", \"2009\", \"2010\", \"2011\"]\n",
    "months = [\"01\"]#, \"02\", \"03\", \"04\", \"05\", \"06\", \"07\", \"08\", \"09\", \"10\", \"11\", \"12\"]\n",
    "uncleaned_df = pd.DataFrame()\n",
    "\n",
    "for y in years:\n",
    "    for m in months:\n",
    "        try:\n",
    "            filename = \"data/\" + y + \"/RC_\" + y + \"-\" + m + \".bz2\"\n",
    "            parsed_file = pd.read_json(filename, compression='bz2', lines=True)\n",
    "            parsed_file['month'] = m\n",
    "            parsed_file['year'] = y\n",
    "            uncleaned_df = uncleaned_df.append(parsed_file)\n",
    "            print(filename + \" parsed\")\n",
    "            \n",
    "        except:\n",
    "            print(\"file named \" + filename + \" does not exist\")"
   ]
  },
  {
   "cell_type": "code",
   "execution_count": null,
   "metadata": {},
   "outputs": [],
   "source": [
    "#check out layout of each post\n",
    "print(uncleaned_df.head(2))"
   ]
  },
  {
   "cell_type": "code",
   "execution_count": null,
   "metadata": {},
   "outputs": [],
   "source": [
    "#clean the data\n",
    "clean_df = uncleaned_df[['id', 'score', 'controversiality', 'subreddit', 'body', 'month', 'year']]\n",
    "print(clean_df.dtypes)\n",
    "print(clean_df.isnull().sum(axis=0)) #check for null values"
   ]
  },
  {
   "cell_type": "code",
   "execution_count": null,
   "metadata": {},
   "outputs": [],
   "source": [
    "#sort into xbox and ps mentions, ignoring posts that have neither\n",
    "ps_list = ['playstation', 'ps1', 'ps2', 'ps3', 'ps4', 'ps5']\n",
    "xbox_list = ['xbox']\n",
    "blacklist = ['Fluxbox', 'fluxbox', 'ps2pdf', 'cps3', 'mps3', 'Trixbox', 'rps25', 'aps2', 'gps2', 'lps3', 'pps25']\n",
    "\n",
    "#check the body of each row in clean_df for elements of ps_list or xbox_list\n",
    "#if it contains ps, make ps column true\n",
    "#if it contains xbox, make xbox column true\n",
    "#if either of the above pass, they go into the new dataframe df\n",
    "def ps_mention(row):\n",
    "    mention = False\n",
    "    if not any(entry in row for entry in blacklist):\n",
    "        if any(x in row for x in ps_list):\n",
    "            mention = True\n",
    "    return mention\n",
    "\n",
    "def xbox_mention(row):\n",
    "    mention = False\n",
    "    if not any(entry in row for entry in blacklist):\n",
    "        if any(x in row for x in xbox_list):\n",
    "            mention = True\n",
    "    return mention\n",
    "\n",
    "clean_df['PS'] = clean_df['body'].apply(ps_mention)\n",
    "clean_df['XBOX'] = clean_df['body'].apply(xbox_mention)\n",
    "\n",
    "df = clean_df[(clean_df['PS'] == True) | (clean_df['XBOX'] == True)]\n",
    "df.set_index('id', inplace=True, drop=True)"
   ]
  },
  {
   "cell_type": "code",
   "execution_count": null,
   "metadata": {},
   "outputs": [],
   "source": [
    "print(clean_df.shape)\n",
    "print(df.shape)"
   ]
  },
  {
   "cell_type": "code",
   "execution_count": null,
   "metadata": {},
   "outputs": [],
   "source": [
    "#save dataframes as files for future use (done one year at a time, otherwise this needs to be in a loop)\n",
    "df.to_json('dataframes/df'+years[0]+months[0]+'.json')\n",
    "\n",
    "#df2 = pd.read_json('dataframes/df'+years[0]+'.json')\n",
    "#print(df2.head())"
   ]
  },
  {
   "cell_type": "code",
   "execution_count": null,
   "metadata": {},
   "outputs": [],
   "source": [
    "m = [\"01\", \"02\", \"03\", \"04\", \"05\", \"06\", \"07\", \"08\", \"09\", \"10\", \"11\", \"12\"]\n",
    "\n",
    "final_df = pd.DataFrame()\n",
    "for x in m:\n",
    "    loaded_df = pd.read_json('dataframes/df'+years[0]+x+'.json')\n",
    "    final_df = final_df.append(loaded_df)\n",
    "final_df.to_json('dataframes/df'+years[0]+'.json')"
   ]
  },
  {
   "cell_type": "code",
   "execution_count": 2,
   "metadata": {},
   "outputs": [
    {
     "name": "stdout",
     "output_type": "stream",
     "text": [
      "(82, 9)\n",
      "(431, 9)\n",
      "(2712, 9)\n",
      "(0, 0)\n"
     ]
    }
   ],
   "source": [
    "df06 = pd.read_json('dataframes/df2006.json')\n",
    "print(df06.shape)\n",
    "df07 = pd.read_json('dataframes/df2007.json')\n",
    "print(df07.shape)\n",
    "df08 = pd.read_json('dataframes/df2008.json')\n",
    "print(df08.shape)\n",
    "df09 = pd.read_json('dataframes/df2009.json')\n",
    "print(df09.shape)"
   ]
  }
 ],
 "metadata": {
  "kernelspec": {
   "display_name": "Python 3",
   "language": "python",
   "name": "python3"
  },
  "language_info": {
   "codemirror_mode": {
    "name": "ipython",
    "version": 3
   },
   "file_extension": ".py",
   "mimetype": "text/x-python",
   "name": "python",
   "nbconvert_exporter": "python",
   "pygments_lexer": "ipython3",
   "version": "3.8.3"
  }
 },
 "nbformat": 4,
 "nbformat_minor": 4
}
