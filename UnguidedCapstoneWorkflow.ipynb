{
 "cells": [
  {
   "cell_type": "code",
   "execution_count": 2,
   "metadata": {},
   "outputs": [],
   "source": [
    "#load in dependencies\n",
    "import pandas as pd\n",
    "import numpy as np\n",
    "import bz2\n",
    "import json"
   ]
  },
  {
   "cell_type": "code",
   "execution_count": 2,
   "metadata": {},
   "outputs": [],
   "source": [
    "#lists of words to narrow down how many results I get back\n",
    "blacklist = ['Fluxbox', 'fluxbox', 'ps2pdf', 'cps3', 'mps3', 'Trixbox', 'rps25', 'aps2', 'gps2', 'lps3', 'pps25', r'a-zA-Z'+'ps', r'a-zA-Z'+'xbox']\n",
    "ps_list = ['playstation', 'ps1', 'ps2', 'ps3', 'ps4']\n",
    "xbox_list = ['xbox']\n",
    "\n",
    "#ps/xbox_mention scan an individual post to see if it contains info about the corresponding console\n",
    "def ps_mention(row):\n",
    "    mention = False\n",
    "    if not any(entry in row for entry in blacklist):\n",
    "        if any(x in row for x in ps_list):\n",
    "            mention = True\n",
    "    return mention\n",
    "\n",
    "def xbox_mention(row):\n",
    "    mention = False\n",
    "    if not any(entry in row for entry in blacklist):\n",
    "        if any(x in row for x in xbox_list):\n",
    "            mention = True\n",
    "    return mention\n",
    "\n",
    "#breaks a dataframe down into the useful columns and filters out rows that don't contain ps/xbox mentions\n",
    "def cleaning(uncleaned_df):\n",
    "    cleaned = uncleaned_df[['id', 'score', 'controversiality', 'subreddit', 'body', 'month', 'year']]\n",
    "    original_size = len(uncleaned_df.index)\n",
    "    cleaned['original_size'] = original_size\n",
    "    cleaned['PS'] = cleaned['body'].apply(ps_mention)\n",
    "    cleaned['XBOX'] = cleaned['body'].apply(xbox_mention)\n",
    "    df = cleaned[(cleaned['PS'] == True) | (cleaned['XBOX'] == True)]\n",
    "    df.set_index('id', inplace=True, drop=True) \n",
    "    return(df)"
   ]
  },
  {
   "cell_type": "code",
   "execution_count": 11,
   "metadata": {},
   "outputs": [
    {
     "name": "stderr",
     "output_type": "stream",
     "text": [
      "<ipython-input-2-199b14a0aa7d>:25: SettingWithCopyWarning: \n",
      "A value is trying to be set on a copy of a slice from a DataFrame.\n",
      "Try using .loc[row_indexer,col_indexer] = value instead\n",
      "\n",
      "See the caveats in the documentation: https://pandas.pydata.org/pandas-docs/stable/user_guide/indexing.html#returning-a-view-versus-a-copy\n",
      "  cleaned['original_size'] = original_size\n",
      "<ipython-input-2-199b14a0aa7d>:26: SettingWithCopyWarning: \n",
      "A value is trying to be set on a copy of a slice from a DataFrame.\n",
      "Try using .loc[row_indexer,col_indexer] = value instead\n",
      "\n",
      "See the caveats in the documentation: https://pandas.pydata.org/pandas-docs/stable/user_guide/indexing.html#returning-a-view-versus-a-copy\n",
      "  cleaned['PS'] = cleaned['body'].apply(ps_mention)\n",
      "<ipython-input-2-199b14a0aa7d>:27: SettingWithCopyWarning: \n",
      "A value is trying to be set on a copy of a slice from a DataFrame.\n",
      "Try using .loc[row_indexer,col_indexer] = value instead\n",
      "\n",
      "See the caveats in the documentation: https://pandas.pydata.org/pandas-docs/stable/user_guide/indexing.html#returning-a-view-versus-a-copy\n",
      "  cleaned['XBOX'] = cleaned['body'].apply(xbox_mention)\n"
     ]
    },
    {
     "name": "stdout",
     "output_type": "stream",
     "text": [
      "data/2009/RC_2009-01.bz2 parsed\n",
      "(470, 9)\n",
      "data/2009/RC_2009-02.bz2 parsed\n",
      "(441, 9)\n",
      "data/2009/RC_2009-03.bz2 parsed\n",
      "(492, 9)\n",
      "data/2009/RC_2009-04.bz2 parsed\n",
      "(447, 9)\n",
      "data/2009/RC_2009-05.bz2 parsed\n",
      "(547, 9)\n",
      "data/2009/RC_2009-06.bz2 parsed\n",
      "(754, 9)\n",
      "data/2009/RC_2009-07.bz2 parsed\n",
      "(750, 9)\n",
      "data/2009/RC_2009-08.bz2 parsed\n",
      "(1053, 9)\n",
      "data/2009/RC_2009-09.bz2 parsed\n",
      "(1132, 9)\n",
      "data/2009/RC_2009-10.bz2 parsed\n",
      "(1406, 9)\n",
      "data/2009/RC_2009-11.bz2 parsed\n",
      "(1957, 9)\n",
      "data/2009/RC_2009-12.bz2 parsed\n",
      "(2096, 9)\n"
     ]
    }
   ],
   "source": [
    "#year and month iterators for running through the bz2 files\n",
    "#note that I ran each year independently due to memory issues with later years that had much larger files\n",
    "\n",
    "#years = ['2006', '2007', '2008', '2009']\n",
    "years = ['2009']\n",
    "months = ['01', '02', '03', '04', '05', '06', '07', '08', '09', '10', '11', '12']\n",
    "\n",
    "#runs through the bz2 files containing the raw Reddit data and passes them to the cleaning function above\n",
    "#then saves the result as a json file one month at a time\n",
    "for y in years:\n",
    "    for m in months:\n",
    "        df = pd.DataFrame()\n",
    "        try:\n",
    "            filename = \"data/\" + y + \"/RC_\" + y + \"-\" + m + \".bz2\"\n",
    "            parsed_file = pd.read_json(filename, compression='bz2', lines=True)\n",
    "            parsed_file['month'] = m\n",
    "            parsed_file['year'] = y\n",
    "            cleaned_monthly = cleaning(parsed_file)\n",
    "            df = df.append(cleaned_monthly)\n",
    "            print(filename + \" parsed\")\n",
    "            df.to_json('dataframes/df'+y+'-'+m+'.json')\n",
    "            print(df.shape)\n",
    "            \n",
    "        except:\n",
    "            print(\"file named \" + filename + \" does not exist\")"
   ]
  },
  {
   "cell_type": "code",
   "execution_count": 80,
   "metadata": {},
   "outputs": [
    {
     "name": "stdout",
     "output_type": "stream",
     "text": [
      "(82, 9)\n",
      "(431, 9)\n",
      "(2712, 9)\n",
      "(11545, 9)\n"
     ]
    }
   ],
   "source": [
    "#compiles a set of year-month jsons from the same year into one larger dataframe\n",
    "years = ['2006', '2007', '2008', '2009']\n",
    "months = ['01', '02', '03', '04', '05', '06', '07', '08', '09', '10', '11', '12']\n",
    "for y in years:\n",
    "    compiled_df = pd.DataFrame()\n",
    "    for m in months:\n",
    "        url = 'dataframes/df'+y+'-'+m+'.json'\n",
    "        df = pd.read_json(url)\n",
    "        compiled_df = compiled_df.append(df)\n",
    "    compiled_df.to_json('dataframes/df'+y+'.json')\n",
    "    print(compiled_df.shape)"
   ]
  },
  {
   "cell_type": "code",
   "execution_count": 84,
   "metadata": {},
   "outputs": [
    {
     "name": "stdout",
     "output_type": "stream",
     "text": [
      "(14770, 9)\n"
     ]
    }
   ],
   "source": [
    "#compile all year dataframes into one\n",
    "df06 = pd.read_json('dataframes/df2006.json')\n",
    "df07 = pd.read_json('dataframes/df2007.json')\n",
    "df08 = pd.read_json('dataframes/df2008.json')\n",
    "df09 = pd.read_json('dataframes/df2009.json')\n",
    "\n",
    "final_df = df06.append(df07.append(df08.append(df09)))\n",
    "final_df.to_json('dataframes/reddit_data.json')\n",
    "print(final_df.shape)"
   ]
  }
 ],
 "metadata": {
  "kernelspec": {
   "display_name": "Python 3",
   "language": "python",
   "name": "python3"
  },
  "language_info": {
   "codemirror_mode": {
    "name": "ipython",
    "version": 3
   },
   "file_extension": ".py",
   "mimetype": "text/x-python",
   "name": "python",
   "nbconvert_exporter": "python",
   "pygments_lexer": "ipython3",
   "version": "3.8.3"
  }
 },
 "nbformat": 4,
 "nbformat_minor": 4
}
